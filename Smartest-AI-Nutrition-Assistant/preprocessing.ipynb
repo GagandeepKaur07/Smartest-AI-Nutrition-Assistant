{
 "cells": [
  {
   "cell_type": "code",
   "execution_count": 1,
   "id": "d6414896",
   "metadata": {},
   "outputs": [],
   "source": [
    "import pandas as pd\n",
    "\n",
    "# dataset\n",
    "df = pd.read_csv('All_Diets.csv')\n"
   ]
  },
  {
   "cell_type": "code",
   "execution_count": 2,
   "id": "3802d546",
   "metadata": {},
   "outputs": [
    {
     "name": "stdout",
     "output_type": "stream",
     "text": [
      "Initial Dataset:\n",
      "  Diet_type                                        Recipe_name  \\\n",
      "0     paleo                    Bone Broth From 'Nom Nom Paleo'   \n",
      "1     paleo  Paleo Effect Asian-Glazed Pork Sides, A Sweet ...   \n",
      "2     paleo                                  Paleo Pumpkin Pie   \n",
      "3     paleo                       Strawberry Guacamole recipes   \n",
      "4     paleo  Asian Cauliflower Fried \"Rice\" From 'Nom Nom P...   \n",
      "\n",
      "       Cuisine_type  Protein(g)  Carbs(g)  Fat(g) Extraction_day  \\\n",
      "0          american        5.22      1.29    3.20     2022-10-16   \n",
      "1  south east asian      181.55     28.62  146.14     2022-10-16   \n",
      "2          american       30.91    302.59   96.76     2022-10-16   \n",
      "3           mexican        9.62     75.78   59.89     2022-10-16   \n",
      "4           chinese       39.84     54.08   71.55     2022-10-16   \n",
      "\n",
      "  Extraction_time  \n",
      "0        17:20:09  \n",
      "1        17:20:09  \n",
      "2        17:20:09  \n",
      "3        17:20:09  \n",
      "4        17:20:09  \n"
     ]
    }
   ],
   "source": [
    "print(\"Initial Dataset:\")\n",
    "print(df.head())"
   ]
  },
  {
   "cell_type": "code",
   "execution_count": 3,
   "id": "4d48a463",
   "metadata": {},
   "outputs": [
    {
     "name": "stdout",
     "output_type": "stream",
     "text": [
      "\n",
      "Missing Values:\n",
      "Diet_type          0\n",
      "Recipe_name        0\n",
      "Cuisine_type       0\n",
      "Protein(g)         0\n",
      "Carbs(g)           0\n",
      "Fat(g)             0\n",
      "Extraction_day     0\n",
      "Extraction_time    0\n",
      "dtype: int64\n"
     ]
    }
   ],
   "source": [
    "print(\"\\nMissing Values:\")\n",
    "print(df.isnull().sum())"
   ]
  },
  {
   "cell_type": "code",
   "execution_count": 4,
   "id": "cafbda54",
   "metadata": {},
   "outputs": [],
   "source": [
    "df.dropna(inplace=True)"
   ]
  },
  {
   "cell_type": "code",
   "execution_count": 5,
   "id": "73cca5fb",
   "metadata": {},
   "outputs": [
    {
     "name": "stdout",
     "output_type": "stream",
     "text": [
      "\n",
      "Cleaned Dataset:\n",
      "  Diet_type                                        Recipe_name  \\\n",
      "0     paleo                    Bone Broth From 'Nom Nom Paleo'   \n",
      "1     paleo  Paleo Effect Asian-Glazed Pork Sides, A Sweet ...   \n",
      "2     paleo                                  Paleo Pumpkin Pie   \n",
      "3     paleo                       Strawberry Guacamole recipes   \n",
      "4     paleo  Asian Cauliflower Fried \"Rice\" From 'Nom Nom P...   \n",
      "\n",
      "       Cuisine_type  Protein(g)  Carbs(g)  Fat(g) Extraction_day  \\\n",
      "0          american        5.22      1.29    3.20     2022-10-16   \n",
      "1  south east asian      181.55     28.62  146.14     2022-10-16   \n",
      "2          american       30.91    302.59   96.76     2022-10-16   \n",
      "3           mexican        9.62     75.78   59.89     2022-10-16   \n",
      "4           chinese       39.84     54.08   71.55     2022-10-16   \n",
      "\n",
      "  Extraction_time  \n",
      "0        17:20:09  \n",
      "1        17:20:09  \n",
      "2        17:20:09  \n",
      "3        17:20:09  \n",
      "4        17:20:09  \n"
     ]
    }
   ],
   "source": [
    "print(\"\\nCleaned Dataset:\")\n",
    "print(df.head())"
   ]
  },
  {
   "cell_type": "code",
   "execution_count": 6,
   "id": "2462fd91",
   "metadata": {},
   "outputs": [
    {
     "name": "stdout",
     "output_type": "stream",
     "text": [
      "\n",
      "Preprocessed dataset saved as 'preprocessed_healthy_diet_recipes.csv'.\n"
     ]
    }
   ],
   "source": [
    "df.to_csv('preprocessed_healthy_diet_recipes.csv', index=False)\n",
    "print(\"\\nPreprocessed dataset saved as 'preprocessed_healthy_diet_recipes.csv'.\")\n"
   ]
  }
 ],
 "metadata": {
  "kernelspec": {
   "display_name": "Python 3",
   "language": "python",
   "name": "python3"
  },
  "language_info": {
   "codemirror_mode": {
    "name": "ipython",
    "version": 3
   },
   "file_extension": ".py",
   "mimetype": "text/x-python",
   "name": "python",
   "nbconvert_exporter": "python",
   "pygments_lexer": "ipython3",
   "version": "3.12.6"
  }
 },
 "nbformat": 4,
 "nbformat_minor": 5
}
